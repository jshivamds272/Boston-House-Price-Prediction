{
  "nbformat": 4,
  "nbformat_minor": 0,
  "metadata": {
    "colab": {
      "name": "Boston House price prediction by cross validation with preprocessing ,pipelines,regression(lasso,ridge)",
      "provenance": [],
      "collapsed_sections": [],
      "authorship_tag": "ABX9TyMaFaFreQFmE8/HWECqbsTa",
      "include_colab_link": true
    },
    "kernelspec": {
      "name": "python3",
      "display_name": "Python 3"
    },
    "language_info": {
      "name": "python"
    }
  },
  "cells": [
    {
      "cell_type": "markdown",
      "metadata": {
        "id": "view-in-github",
        "colab_type": "text"
      },
      "source": [
        "<a href=\"https://colab.research.google.com/github/jshivamds272/Boston-House-Price-Prediction/blob/main/Boston_House_price_prediction_by_cross_validation_with_preprocessing_%2Cpipelines%2Cregression(lasso%2Cridge).ipynb\" target=\"_parent\"><img src=\"https://colab.research.google.com/assets/colab-badge.svg\" alt=\"Open In Colab\"/></a>"
      ]
    },
    {
      "cell_type": "markdown",
      "metadata": {
        "id": "xnERDxZy6nFY"
      },
      "source": [
        "Imported necessary libraries"
      ]
    },
    {
      "cell_type": "code",
      "metadata": {
        "id": "0AAiCtF66SIU"
      },
      "source": [
        "import numpy as np\n",
        "import pickle \n",
        "import pandas as pd\n",
        "import matplotlib.pyplot as plt\n",
        "\n",
        "from sklearn.preprocessing import StandardScaler, PolynomialFeatures\n",
        "from sklearn.model_selection import KFold,cross_val_predict\n",
        "from sklearn.linear_model import LinearRegression,Lasso,Ridge\n",
        "from sklearn.metrics import r2_score\n",
        "from sklearn.pipeline import Pipeline"
      ],
      "execution_count": null,
      "outputs": []
    },
    {
      "cell_type": "markdown",
      "metadata": {
        "id": "sxzRpY63uyX5"
      },
      "source": [
        "Load pickle file "
      ]
    },
    {
      "cell_type": "code",
      "metadata": {
        "id": "Z0Xt6IVt65aq"
      },
      "source": [
        "boston=pickle.load(open(\"/content/hBigCaU0QRiYoAmlNGEYjA_94c89106c77a45a9a75a0234ad42f966_boston_housing_clean.pickle\",'rb')) #loaded given pickle file"
      ],
      "execution_count": null,
      "outputs": []
    },
    {
      "cell_type": "code",
      "metadata": {
        "colab": {
          "base_uri": "https://localhost:8080/"
        },
        "id": "Z3TxSa2v8OxS",
        "outputId": "f493517c-565f-404d-d730-da7b3fe8ab6a"
      },
      "source": [
        "boston.keys() # see keys of boston"
      ],
      "execution_count": null,
      "outputs": [
        {
          "output_type": "execute_result",
          "data": {
            "text/plain": [
              "dict_keys(['dataframe', 'description'])"
            ]
          },
          "metadata": {},
          "execution_count": 4
        }
      ]
    },
    {
      "cell_type": "code",
      "metadata": {
        "id": "f_ss3w8C-XnP"
      },
      "source": [
        "boston_data=boston['dataframe']  #separated dataset from pickle file\n",
        "boston_description=boston['description']  #separated data discrition from pickle file"
      ],
      "execution_count": null,
      "outputs": []
    },
    {
      "cell_type": "code",
      "metadata": {
        "colab": {
          "base_uri": "https://localhost:8080/",
          "height": 203
        },
        "id": "kXPCdyFN-l94",
        "outputId": "75f5994a-b804-4cf3-b755-fbcd37dcb700"
      },
      "source": [
        "boston_data.head()  # top 5 rows of data sets"
      ],
      "execution_count": null,
      "outputs": [
        {
          "output_type": "execute_result",
          "data": {
            "text/html": [
              "<div>\n",
              "<style scoped>\n",
              "    .dataframe tbody tr th:only-of-type {\n",
              "        vertical-align: middle;\n",
              "    }\n",
              "\n",
              "    .dataframe tbody tr th {\n",
              "        vertical-align: top;\n",
              "    }\n",
              "\n",
              "    .dataframe thead th {\n",
              "        text-align: right;\n",
              "    }\n",
              "</style>\n",
              "<table border=\"1\" class=\"dataframe\">\n",
              "  <thead>\n",
              "    <tr style=\"text-align: right;\">\n",
              "      <th></th>\n",
              "      <th>CRIM</th>\n",
              "      <th>ZN</th>\n",
              "      <th>INDUS</th>\n",
              "      <th>CHAS</th>\n",
              "      <th>NOX</th>\n",
              "      <th>RM</th>\n",
              "      <th>AGE</th>\n",
              "      <th>DIS</th>\n",
              "      <th>RAD</th>\n",
              "      <th>TAX</th>\n",
              "      <th>PTRATIO</th>\n",
              "      <th>B</th>\n",
              "      <th>LSTAT</th>\n",
              "      <th>MEDV</th>\n",
              "    </tr>\n",
              "  </thead>\n",
              "  <tbody>\n",
              "    <tr>\n",
              "      <th>0</th>\n",
              "      <td>0.00632</td>\n",
              "      <td>18.0</td>\n",
              "      <td>2.31</td>\n",
              "      <td>0.0</td>\n",
              "      <td>0.538</td>\n",
              "      <td>6.575</td>\n",
              "      <td>65.2</td>\n",
              "      <td>4.0900</td>\n",
              "      <td>1.0</td>\n",
              "      <td>296.0</td>\n",
              "      <td>15.3</td>\n",
              "      <td>396.90</td>\n",
              "      <td>4.98</td>\n",
              "      <td>24.0</td>\n",
              "    </tr>\n",
              "    <tr>\n",
              "      <th>1</th>\n",
              "      <td>0.02731</td>\n",
              "      <td>0.0</td>\n",
              "      <td>7.07</td>\n",
              "      <td>0.0</td>\n",
              "      <td>0.469</td>\n",
              "      <td>6.421</td>\n",
              "      <td>78.9</td>\n",
              "      <td>4.9671</td>\n",
              "      <td>2.0</td>\n",
              "      <td>242.0</td>\n",
              "      <td>17.8</td>\n",
              "      <td>396.90</td>\n",
              "      <td>9.14</td>\n",
              "      <td>21.6</td>\n",
              "    </tr>\n",
              "    <tr>\n",
              "      <th>2</th>\n",
              "      <td>0.02729</td>\n",
              "      <td>0.0</td>\n",
              "      <td>7.07</td>\n",
              "      <td>0.0</td>\n",
              "      <td>0.469</td>\n",
              "      <td>7.185</td>\n",
              "      <td>61.1</td>\n",
              "      <td>4.9671</td>\n",
              "      <td>2.0</td>\n",
              "      <td>242.0</td>\n",
              "      <td>17.8</td>\n",
              "      <td>392.83</td>\n",
              "      <td>4.03</td>\n",
              "      <td>34.7</td>\n",
              "    </tr>\n",
              "    <tr>\n",
              "      <th>3</th>\n",
              "      <td>0.03237</td>\n",
              "      <td>0.0</td>\n",
              "      <td>2.18</td>\n",
              "      <td>0.0</td>\n",
              "      <td>0.458</td>\n",
              "      <td>6.998</td>\n",
              "      <td>45.8</td>\n",
              "      <td>6.0622</td>\n",
              "      <td>3.0</td>\n",
              "      <td>222.0</td>\n",
              "      <td>18.7</td>\n",
              "      <td>394.63</td>\n",
              "      <td>2.94</td>\n",
              "      <td>33.4</td>\n",
              "    </tr>\n",
              "    <tr>\n",
              "      <th>4</th>\n",
              "      <td>0.06905</td>\n",
              "      <td>0.0</td>\n",
              "      <td>2.18</td>\n",
              "      <td>0.0</td>\n",
              "      <td>0.458</td>\n",
              "      <td>7.147</td>\n",
              "      <td>54.2</td>\n",
              "      <td>6.0622</td>\n",
              "      <td>3.0</td>\n",
              "      <td>222.0</td>\n",
              "      <td>18.7</td>\n",
              "      <td>396.90</td>\n",
              "      <td>5.33</td>\n",
              "      <td>36.2</td>\n",
              "    </tr>\n",
              "  </tbody>\n",
              "</table>\n",
              "</div>"
            ],
            "text/plain": [
              "      CRIM    ZN  INDUS  CHAS    NOX  ...    TAX  PTRATIO       B  LSTAT  MEDV\n",
              "0  0.00632  18.0   2.31   0.0  0.538  ...  296.0     15.3  396.90   4.98  24.0\n",
              "1  0.02731   0.0   7.07   0.0  0.469  ...  242.0     17.8  396.90   9.14  21.6\n",
              "2  0.02729   0.0   7.07   0.0  0.469  ...  242.0     17.8  392.83   4.03  34.7\n",
              "3  0.03237   0.0   2.18   0.0  0.458  ...  222.0     18.7  394.63   2.94  33.4\n",
              "4  0.06905   0.0   2.18   0.0  0.458  ...  222.0     18.7  396.90   5.33  36.2\n",
              "\n",
              "[5 rows x 14 columns]"
            ]
          },
          "metadata": {},
          "execution_count": 6
        }
      ]
    },
    {
      "cell_type": "code",
      "metadata": {
        "id": "-aC2S-f5-yB-"
      },
      "source": [
        "x=boston_data.drop('MEDV',axis=1)  # separate independent and dependent variables\n",
        "y=boston_data.MEDV"
      ],
      "execution_count": null,
      "outputs": []
    },
    {
      "cell_type": "code",
      "metadata": {
        "id": "3RRiko87FaUo"
      },
      "source": [
        "kf=KFold(shuffle=True, random_state=72018,n_splits=3) #perform kfold for model_selection"
      ],
      "execution_count": null,
      "outputs": []
    },
    {
      "cell_type": "code",
      "metadata": {
        "colab": {
          "base_uri": "https://localhost:8080/"
        },
        "id": "udbAxZspF7rY",
        "outputId": "7d36279e-7f98-489d-b564-211034373ace"
      },
      "source": [
        "kf.split(x)   #made object of kfold"
      ],
      "execution_count": null,
      "outputs": [
        {
          "output_type": "execute_result",
          "data": {
            "text/plain": [
              "<generator object _BaseKFold.split at 0x7f3d6d70f150>"
            ]
          },
          "metadata": {},
          "execution_count": 9
        }
      ]
    },
    {
      "cell_type": "code",
      "metadata": {
        "colab": {
          "base_uri": "https://localhost:8080/"
        },
        "id": "8Nv4phOQFk5J",
        "outputId": "1cfc641e-2a0c-4834-e644-eff3af1a379f"
      },
      "source": [
        "for train_index,test_index in kf.split(x):      \n",
        "  print('train index',train_index[:10],len(train_index))\n",
        "  print('test index ',test_index[:10],len(test_index))\n",
        "  print('')"
      ],
      "execution_count": null,
      "outputs": [
        {
          "output_type": "stream",
          "name": "stdout",
          "text": [
            "train index [ 1  3  4  5  7  8 10 11 12 13] 337\n",
            "test index  [ 0  2  6  9 15 17 19 23 25 26] 169\n",
            "\n",
            "train index [ 0  2  6  9 10 11 12 13 15 17] 337\n",
            "test index  [ 1  3  4  5  7  8 14 16 22 27] 169\n",
            "\n",
            "train index [0 1 2 3 4 5 6 7 8 9] 338\n",
            "test index  [10 11 12 13 18 20 21 24 28 31] 168\n",
            "\n"
          ]
        }
      ]
    },
    {
      "cell_type": "code",
      "metadata": {
        "colab": {
          "base_uri": "https://localhost:8080/"
        },
        "id": "xEMaybOXGXgp",
        "outputId": "2c004270-ff4a-420e-d941-6de2a1cc462b"
      },
      "source": [
        "scores=[]\n",
        "lr=LinearRegression()\n",
        "\n",
        "for train_index,test_index in kf.split(x):\n",
        "  x_train,x_test,y_train,y_test=(x.iloc[train_index, :],x.iloc[test_index, :],y[train_index],y[test_index])\n",
        "  lr.fit(x_train,y_train)\n",
        "  y_pred=lr.predict(x_test)\n",
        "  score=r2_score(y_test.values,y_pred)\n",
        "  scores.append(score)\n",
        "scores"
      ],
      "execution_count": null,
      "outputs": [
        {
          "output_type": "execute_result",
          "data": {
            "text/plain": [
              "[0.6719348798472724, 0.7485020059212374, 0.6976807323597793]"
            ]
          },
          "metadata": {},
          "execution_count": 11
        }
      ]
    },
    {
      "cell_type": "markdown",
      "metadata": {
        "id": "0Q8gtLPYJfP_"
      },
      "source": [
        "preprocessing  by standardise data"
      ]
    },
    {
      "cell_type": "code",
      "metadata": {
        "colab": {
          "base_uri": "https://localhost:8080/"
        },
        "id": "O0U7xxtRJi4Q",
        "outputId": "97239562-7869-4378-9728-65d53720c236"
      },
      "source": [
        "scores=[]\n",
        "lr=LinearRegression()\n",
        "s=StandardScaler()\n",
        "\n",
        "for train_index,test_index in kf.split(x):\n",
        "  x_train,x_test,y_train,y_test=(x.iloc[train_index, :],x.iloc[test_index, :],y[train_index],y[test_index])\n",
        "  x_train_s=s.fit_transform(x_train)\n",
        "\n",
        "  lr.fit(x_train_s,y_train)\n",
        "  x_test_s=s.transform(x_test)\n",
        "  y_pred=lr.predict(x_test_s)\n",
        "  score=r2_score(y_test.values,y_pred)\n",
        "  scores.append(score)\n",
        "scores"
      ],
      "execution_count": null,
      "outputs": [
        {
          "output_type": "execute_result",
          "data": {
            "text/plain": [
              "[0.6719348798472715, 0.7485020059212382, 0.6976807323597745]"
            ]
          },
          "metadata": {},
          "execution_count": 12
        }
      ]
    },
    {
      "cell_type": "markdown",
      "metadata": {
        "id": "F2XMPZSgLgmJ"
      },
      "source": [
        "Pipeline and cross_val_predict"
      ]
    },
    {
      "cell_type": "code",
      "metadata": {
        "id": "7QpZ-1AdK7QV"
      },
      "source": [
        "s=StandardScaler()\n",
        "lr=LinearRegression()"
      ],
      "execution_count": null,
      "outputs": []
    },
    {
      "cell_type": "code",
      "metadata": {
        "id": "3SeCTkjCLwW1"
      },
      "source": [
        "estimator=Pipeline([('scaler',s),('regression',lr)])"
      ],
      "execution_count": null,
      "outputs": []
    },
    {
      "cell_type": "code",
      "metadata": {
        "colab": {
          "base_uri": "https://localhost:8080/"
        },
        "id": "9wqWqCbTNtn9",
        "outputId": "ecf7c85d-a826-489d-b3b0-7719557571de"
      },
      "source": [
        "estimator.fit(x_train,y_train)"
      ],
      "execution_count": null,
      "outputs": [
        {
          "output_type": "execute_result",
          "data": {
            "text/plain": [
              "Pipeline(steps=[('scaler', StandardScaler()),\n",
              "                ('regression', LinearRegression())])"
            ]
          },
          "metadata": {},
          "execution_count": 15
        }
      ]
    },
    {
      "cell_type": "code",
      "metadata": {
        "colab": {
          "base_uri": "https://localhost:8080/"
        },
        "id": "7KY9AbApN0Eo",
        "outputId": "f7d9d02b-95ae-4ebf-833a-180dc746af19"
      },
      "source": [
        "estimator.predict(x_test)"
      ],
      "execution_count": null,
      "outputs": [
        {
          "output_type": "execute_result",
          "data": {
            "text/plain": [
              "array([19.44230308, 22.8687781 , 20.72201438, 20.19685225, 16.02553328,\n",
              "       13.19670707, 18.48717304, 16.41260539, 20.08040483, 19.16027923,\n",
              "       23.03341265, 23.52809897, 24.64808538, 23.84554003, 22.37992895,\n",
              "       18.54423788,  9.23453025, 24.86310535, 27.35965358, 29.95093715,\n",
              "       21.71928179, 18.63649236, 19.67735609, 29.98064881, 20.78659698,\n",
              "       17.29484103, 20.88767674, 23.59352298, 23.01287114, 24.82516061,\n",
              "       28.1550891 , 26.59019417, 28.40170962, 28.61954803, 28.99730977,\n",
              "       25.46130359, 20.83346878, 21.39384122, 21.12590183, 24.80991192,\n",
              "       22.64896843, 20.63582629, 20.04498128, 20.28679691, 16.04272023,\n",
              "       15.75494076, 12.78067624, 11.43558055, 21.98898014, 23.31730716,\n",
              "       24.28692882, 21.28789025, 14.88646576, 31.00959189, 35.37282463,\n",
              "       37.57270926, 23.58942636, 24.75302163, 30.63215847, 34.85770942,\n",
              "       32.94090699, 30.0536187 , 39.86200512, 29.05010705, 35.53401305,\n",
              "       41.89294309, 23.54417467, 23.61752172,  8.51966664, 24.3803473 ,\n",
              "       31.93213161, 35.04907462, 33.74198666, 30.95975523, 38.16572411,\n",
              "       34.04572219, 25.50003895, 26.9008276 , 26.81331202, 17.52450192,\n",
              "       23.0561211 , 23.35940105, 27.41662679, 37.95283941, 35.39695531,\n",
              "       37.15560829, 30.16078745, 31.7987809 , 22.17460829, 36.87065984,\n",
              "       29.95618041, 35.45099005, 38.96516444, 19.04113986, 27.03723525,\n",
              "       33.28276705, 19.71614458, 30.7356145 , 35.74753519, 33.31789906,\n",
              "       29.82085216, 19.17675208, 26.73030054, 18.85119288, 25.10080811,\n",
              "       25.2310572 , 23.35918589, 20.55011533, 23.44439899, 21.43873939,\n",
              "       22.28755319, 21.55265486, 22.1886005 , 30.13309578, 27.73873544,\n",
              "       27.83343144, 21.22476747, 20.29426743, 16.43151094, 24.1989263 ,\n",
              "       23.86222031, 20.4568203 , 22.28180574, 36.99716281,  6.35326377,\n",
              "       25.54462242, 15.91166325, 14.2172422 ,  8.43052398, 21.03393529,\n",
              "       19.10628664, 19.46324302, 12.20521866, 18.2420435 , 18.49378935,\n",
              "       21.90422664, 13.82169579, 19.42918743,  8.44262399,  7.195685  ,\n",
              "       20.36534151, 19.00376186, 17.79256504, 17.87715422, 21.34551178,\n",
              "        8.19204123,  3.32788461, 11.70535034, 11.96121376, 18.89797015,\n",
              "       22.06307051, 14.60280556, 23.32232899, 14.26431606, 20.57202772,\n",
              "       19.80582497, 27.50273944, 19.08219115, 21.53979588, 13.11731152,\n",
              "       15.37086566, 20.96805073, 20.21749107, 19.62802415, 21.55434999,\n",
              "       20.98843917, 23.32746873, 26.67017418])"
            ]
          },
          "metadata": {},
          "execution_count": 16
        }
      ]
    },
    {
      "cell_type": "markdown",
      "metadata": {
        "id": "DBZM2BpQMEG0"
      },
      "source": [
        "### cross_val_predict\n",
        "is a function that does k-fold cross validation for us,approximately fitting and transforming at every step of the way"
      ]
    },
    {
      "cell_type": "code",
      "metadata": {
        "colab": {
          "base_uri": "https://localhost:8080/"
        },
        "id": "TPkDHpimMCqi",
        "outputId": "88036876-54cb-4639-e938-0e0de2d0a748"
      },
      "source": [
        "kf"
      ],
      "execution_count": null,
      "outputs": [
        {
          "output_type": "execute_result",
          "data": {
            "text/plain": [
              "KFold(n_splits=3, random_state=72018, shuffle=True)"
            ]
          },
          "metadata": {},
          "execution_count": 17
        }
      ]
    },
    {
      "cell_type": "code",
      "metadata": {
        "id": "3nEq9snKNIJh"
      },
      "source": [
        "predictions=cross_val_predict(estimator,x,y,cv=kf)"
      ],
      "execution_count": null,
      "outputs": []
    },
    {
      "cell_type": "code",
      "metadata": {
        "colab": {
          "base_uri": "https://localhost:8080/"
        },
        "id": "WNk_PZgnOZRO",
        "outputId": "c4995d8f-35c4-4423-828b-c7a98e20e51f"
      },
      "source": [
        "len(predictions)"
      ],
      "execution_count": null,
      "outputs": [
        {
          "output_type": "execute_result",
          "data": {
            "text/plain": [
              "506"
            ]
          },
          "metadata": {},
          "execution_count": 20
        }
      ]
    },
    {
      "cell_type": "code",
      "metadata": {
        "colab": {
          "base_uri": "https://localhost:8080/"
        },
        "id": "tlhpyt8sO8Lb",
        "outputId": "969fbf51-a983-4f41-e35e-cdcbe7ce5785"
      },
      "source": [
        "r2_score(y,predictions)"
      ],
      "execution_count": null,
      "outputs": [
        {
          "output_type": "execute_result",
          "data": {
            "text/plain": [
              "0.706353106416156"
            ]
          },
          "metadata": {},
          "execution_count": 21
        }
      ]
    },
    {
      "cell_type": "code",
      "metadata": {
        "colab": {
          "base_uri": "https://localhost:8080/"
        },
        "id": "nMGlAqJZPUBv",
        "outputId": "a9c0bd54-d268-4de3-ad8a-1fee78eb1dac"
      },
      "source": [
        "np.mean(scores)"
      ],
      "execution_count": null,
      "outputs": [
        {
          "output_type": "execute_result",
          "data": {
            "text/plain": [
              "0.7060392060427615"
            ]
          },
          "metadata": {},
          "execution_count": 22
        }
      ]
    },
    {
      "cell_type": "markdown",
      "metadata": {
        "id": "ir23pjGNQpkd"
      },
      "source": [
        "Hyperparameter tunning"
      ]
    },
    {
      "cell_type": "code",
      "metadata": {
        "colab": {
          "base_uri": "https://localhost:8080/"
        },
        "id": "aeRS0tD4QosI",
        "outputId": "f4484163-e541-492a-f6cf-c6dad09bcf81"
      },
      "source": [
        "alphas=np.geomspace(1e-9,1e0,num=10)\n",
        "alphas"
      ],
      "execution_count": null,
      "outputs": [
        {
          "output_type": "execute_result",
          "data": {
            "text/plain": [
              "array([1.e-09, 1.e-08, 1.e-07, 1.e-06, 1.e-05, 1.e-04, 1.e-03, 1.e-02,\n",
              "       1.e-01, 1.e+00])"
            ]
          },
          "metadata": {},
          "execution_count": 23
        }
      ]
    },
    {
      "cell_type": "markdown",
      "metadata": {
        "id": "o0z9--Voy3PQ"
      },
      "source": [
        "Lasso regression"
      ]
    },
    {
      "cell_type": "code",
      "metadata": {
        "id": "AXSdfpmvPc__"
      },
      "source": [
        "scores=[]\n",
        "coefs=[]\n",
        "for alpha in alphas:\n",
        "  las=Lasso(alpha=alpha,max_iter=100000)\n",
        "  \n",
        "  estimator=Pipeline([('scaler',s),('lasso_regression',las)])\n",
        "  predictions=cross_val_predict(estimator,x,y,cv=kf)\n",
        "  score=r2_score(y,predictions)\n",
        "  scores.append(score)"
      ],
      "execution_count": null,
      "outputs": []
    },
    {
      "cell_type": "code",
      "metadata": {
        "colab": {
          "base_uri": "https://localhost:8080/"
        },
        "id": "j-yqJUKFS0OL",
        "outputId": "b2c4b645-0753-4406-b900-d70ec4529dae"
      },
      "source": [
        "list(zip(alphas,scores))"
      ],
      "execution_count": null,
      "outputs": [
        {
          "output_type": "execute_result",
          "data": {
            "text/plain": [
              "[(1e-09, 0.7063531064981925),\n",
              " (1e-08, 0.7063531072356071),\n",
              " (1e-07, 0.7063531145602442),\n",
              " (1e-06, 0.7063531882052063),\n",
              " (1e-05, 0.7063539165191507),\n",
              " (0.0001, 0.706361268093463),\n",
              " (0.001, 0.706433467041546),\n",
              " (0.01, 0.7070865958083233),\n",
              " (0.1, 0.705838151167185),\n",
              " (1.0, 0.6512724532884888)]"
            ]
          },
          "metadata": {},
          "execution_count": 29
        }
      ]
    },
    {
      "cell_type": "code",
      "metadata": {
        "colab": {
          "base_uri": "https://localhost:8080/"
        },
        "id": "VW5fWMNDS_NV",
        "outputId": "94d850c0-b14b-4640-aecc-36fb859104cd"
      },
      "source": [
        "Lasso(alpha=1e-6).fit(x,y).coef_\n"
      ],
      "execution_count": null,
      "outputs": [
        {
          "output_type": "execute_result",
          "data": {
            "text/plain": [
              "array([-1.07170372e-01,  4.63952623e-02,  2.08588308e-02,  2.68854318e+00,\n",
              "       -1.77954207e+01,  3.80475296e+00,  7.50802707e-04, -1.47575348e+00,\n",
              "        3.05654279e-01, -1.23293755e-02, -9.53459908e-01,  9.39253013e-03,\n",
              "       -5.25467196e-01])"
            ]
          },
          "metadata": {},
          "execution_count": 30
        }
      ]
    },
    {
      "cell_type": "code",
      "metadata": {
        "colab": {
          "base_uri": "https://localhost:8080/"
        },
        "id": "hMYixqnkTGqp",
        "outputId": "d6898e1a-592c-42f5-d5f1-bb4229b9be7f"
      },
      "source": [
        "Lasso(alpha=1).fit(x,y).coef_"
      ],
      "execution_count": null,
      "outputs": [
        {
          "output_type": "execute_result",
          "data": {
            "text/plain": [
              "array([-0.06342255,  0.04916867, -0.        ,  0.        , -0.        ,\n",
              "        0.94678567,  0.02092737, -0.66900864,  0.26417501, -0.01520915,\n",
              "       -0.72319901,  0.00829117, -0.76143296])"
            ]
          },
          "metadata": {},
          "execution_count": 31
        }
      ]
    },
    {
      "cell_type": "code",
      "metadata": {
        "colab": {
          "base_uri": "https://localhost:8080/",
          "height": 409
        },
        "id": "yfmFsn9sTNRD",
        "outputId": "2fa368f2-0e2d-483f-874b-809cad3a93da"
      },
      "source": [
        "plt.figure(figsize=(10,6))   # visualise optimal point\n",
        "plt.semilogx(alphas,scores,'-o')\n",
        "plt.xlabel('$\\\\alphas')\n",
        "plt.ylabel('$R^2$')"
      ],
      "execution_count": null,
      "outputs": [
        {
          "output_type": "execute_result",
          "data": {
            "text/plain": [
              "Text(0, 0.5, '$R^2$')"
            ]
          },
          "metadata": {},
          "execution_count": 32
        },
        {
          "output_type": "display_data",
          "data": {
            "image/png": "[encoded data removed]",
            "text/plain": [
              "<Figure size 720x432 with 1 Axes>"
            ]
          },
          "metadata": {
            "needs_background": "light"
          }
        }
      ]
    },
    {
      "cell_type": "markdown",
      "metadata": {
        "id": "O5lFV8v2zWND"
      },
      "source": [
        "Polynomial Regression with lasso regrerssion"
      ]
    },
    {
      "cell_type": "code",
      "metadata": {
        "colab": {
          "base_uri": "https://localhost:8080/"
        },
        "id": "VFVNnzs7Tnzn",
        "outputId": "3eca36d4-de00-458a-db6b-76fc6b51bbea"
      },
      "source": [
        "pf=PolynomialFeatures(degree=3)\n",
        "scores=[]\n",
        "alphas=np.geomspace(0.001,10,5)\n",
        "for alpha in alphas:\n",
        "  las=Lasso(alpha=alpha,max_iter=100000)\n",
        "\n",
        "  estimator=Pipeline([('make_higher_degree',pf),('scaler',s),('lasso_regression',las)])  #PIPLINE of polynomial regression and standard scalling\n",
        "  predictions=cross_val_predict(estimator,x,y,cv=kf)\n",
        "  score=r2_score(y,predictions)\n",
        "  scores.append(score)"
      ],
      "execution_count": null,
      "outputs": [
        {
          "output_type": "stream",
          "name": "stderr",
          "text": [
            "/usr/local/lib/python3.7/dist-packages/sklearn/linear_model/_coordinate_descent.py:648: ConvergenceWarning: Objective did not converge. You might want to increase the number of iterations, check the scale of the features or consider increasing regularisation. Duality gap: 4.084e+01, tolerance: 2.735e+00\n",
            "  coef_, l1_reg, l2_reg, X, y, max_iter, tol, rng, random, positive\n",
            "/usr/local/lib/python3.7/dist-packages/sklearn/linear_model/_coordinate_descent.py:648: ConvergenceWarning: Objective did not converge. You might want to increase the number of iterations, check the scale of the features or consider increasing regularisation. Duality gap: 3.343e+01, tolerance: 2.777e+00\n",
            "  coef_, l1_reg, l2_reg, X, y, max_iter, tol, rng, random, positive\n",
            "/usr/local/lib/python3.7/dist-packages/sklearn/linear_model/_coordinate_descent.py:648: ConvergenceWarning: Objective did not converge. You might want to increase the number of iterations, check the scale of the features or consider increasing regularisation. Duality gap: 3.885e+01, tolerance: 3.030e+00\n",
            "  coef_, l1_reg, l2_reg, X, y, max_iter, tol, rng, random, positive\n"
          ]
        }
      ]
    },
    {
      "cell_type": "code",
      "metadata": {
        "colab": {
          "base_uri": "https://localhost:8080/"
        },
        "id": "B-Wbj2mMXGT2",
        "outputId": "1ea36bcb-7456-4ca1-dd41-90f0e9b89bed"
      },
      "source": [
        "scores  # r2 scores for every value of alpha"
      ],
      "execution_count": null,
      "outputs": [
        {
          "output_type": "execute_result",
          "data": {
            "text/plain": [
              "[0.7697086980421659,\n",
              " 0.8591002095361691,\n",
              " 0.8280423631185617,\n",
              " 0.7328688516176427,\n",
              " -0.000616160136140298]"
            ]
          },
          "metadata": {},
          "execution_count": 37
        }
      ]
    },
    {
      "cell_type": "code",
      "metadata": {
        "colab": {
          "base_uri": "https://localhost:8080/",
          "height": 286
        },
        "id": "gEJZj7VRXIOl",
        "outputId": "376a0b6a-3dd4-4dc5-f00e-2359b802dbc1"
      },
      "source": [
        "plt.semilogx(alphas,scores)    #plot semilogx plot to visualise optimal value of alpha"
      ],
      "execution_count": null,
      "outputs": [
        {
          "output_type": "execute_result",
          "data": {
            "text/plain": [
              "[<matplotlib.lines.Line2D at 0x7f3d62f2b250>]"
            ]
          },
          "metadata": {},
          "execution_count": 38
        },
        {
          "output_type": "display_data",
          "data": {
            "image/png": "[encoded data removed]",
            "text/plain": [
              "<Figure size 432x288 with 1 Axes>"
            ]
          },
          "metadata": {
            "needs_background": "light"
          }
        }
      ]
    },
    {
      "cell_type": "code",
      "metadata": {
        "colab": {
          "base_uri": "https://localhost:8080/"
        },
        "id": "IjV5Ylt4X5pI",
        "outputId": "76612386-6a6a-4413-87c3-0427843f1457"
      },
      "source": [
        "#best estimator  ,perform polynomial degree 2 via pipeline\n",
        "best_estimator=Pipeline([('make_higher_degree',PolynomialFeatures(degree=2)),\n",
        "                         ('scaler',s),('lasso_regression',Lasso(alpha=0.01,max_iter=10000))])\n",
        "best_estimator.fit(x,y)\n",
        "best_estimator.score(x,y)"
      ],
      "execution_count": null,
      "outputs": [
        {
          "output_type": "execute_result",
          "data": {
            "text/plain": [
              "0.9032551408154241"
            ]
          },
          "metadata": {},
          "execution_count": 39
        }
      ]
    },
    {
      "cell_type": "code",
      "metadata": {
        "colab": {
          "base_uri": "https://localhost:8080/"
        },
        "id": "gWAIAhAIY3vk",
        "outputId": "a18aeb5e-63b9-4d57-b490-6e4b2714fa8b"
      },
      "source": [
        "best_estimator.named_steps['lasso_regression'].coef_"
      ],
      "execution_count": null,
      "outputs": [
        {
          "output_type": "execute_result",
          "data": {
            "text/plain": [
              "array([ 0.00000000e+00, -0.00000000e+00, -0.00000000e+00,  0.00000000e+00,\n",
              "        4.61127587e+00,  0.00000000e+00,  6.24240557e-01,  0.00000000e+00,\n",
              "       -7.22878514e+00,  9.74968793e+00,  0.00000000e+00,  0.00000000e+00,\n",
              "        6.34548325e-01,  0.00000000e+00,  9.95741679e-01, -5.51374291e-03,\n",
              "       -0.00000000e+00,  2.44370838e+00, -2.40444044e+00, -0.00000000e+00,\n",
              "       -0.00000000e+00, -2.23044443e-01, -0.00000000e+00, -0.00000000e+00,\n",
              "       -0.00000000e+00, -2.88128934e-01,  5.17203914e-01,  3.07715719e-01,\n",
              "       -3.39853933e-01, -9.86590910e-02, -0.00000000e+00,  2.72847487e-01,\n",
              "       -0.00000000e+00, -6.39829763e-01, -3.16474346e-01,  1.44555554e+00,\n",
              "        0.00000000e+00, -0.00000000e+00, -8.84630187e-01,  1.32081558e+00,\n",
              "        0.00000000e+00,  0.00000000e+00, -0.00000000e+00,  2.63148300e+00,\n",
              "       -2.62941147e-01,  0.00000000e+00,  9.08410143e-01, -8.17144528e-01,\n",
              "        0.00000000e+00, -4.31628234e+00,  5.53254405e-01, -2.91912598e+00,\n",
              "       -4.68486241e+00,  5.80360142e-01,  6.93705854e-01, -1.43087388e+00,\n",
              "       -0.00000000e+00,  0.00000000e+00,  1.80219873e+00, -7.93324201e-01,\n",
              "        0.00000000e+00, -2.99366807e-01, -0.00000000e+00, -0.00000000e+00,\n",
              "       -9.26619562e-01, -0.00000000e+00, -1.52207140e+00,  0.00000000e+00,\n",
              "        1.59132103e-01,  8.59406852e+00, -1.79580442e+00,  0.00000000e+00,\n",
              "       -4.43064063e+00, -6.67704537e+00, -2.78398024e+00,  4.36511083e-01,\n",
              "       -2.07418701e+00, -0.00000000e+00,  4.42278783e-01,  1.97121461e+00,\n",
              "        0.00000000e+00, -0.00000000e+00, -5.63885266e-01, -1.90366836e+00,\n",
              "        3.79255941e+00, -0.00000000e+00, -3.58998427e-01,  3.99107900e-01,\n",
              "       -0.00000000e+00,  8.70546159e-01, -0.00000000e+00,  0.00000000e+00,\n",
              "        0.00000000e+00,  0.00000000e+00, -4.54568143e+00,  0.00000000e+00,\n",
              "        5.12959518e+00,  0.00000000e+00, -6.41075173e-01,  3.19584847e-01,\n",
              "        1.08275771e+00,  0.00000000e+00, -4.07836880e-01, -1.15427697e+00,\n",
              "        5.63522883e+00])"
            ]
          },
          "metadata": {},
          "execution_count": 40
        }
      ]
    },
    {
      "cell_type": "markdown",
      "metadata": {
        "id": "_yGG6yOk3bqA"
      },
      "source": [
        "Ridge Regression"
      ]
    },
    {
      "cell_type": "code",
      "metadata": {
        "id": "WjebbWWg6N-o"
      },
      "source": [
        "from sklearn.linear_model import Ridge"
      ],
      "execution_count": null,
      "outputs": []
    },
    {
      "cell_type": "code",
      "metadata": {
        "id": "pDjgy6gMZn6t",
        "colab": {
          "base_uri": "https://localhost:8080/",
          "height": 282
        },
        "outputId": "0059c49a-f97d-4659-ddd8-456c0c3c76a5"
      },
      "source": [
        "pf=PolynomialFeatures(degree=2)  #polynomial of degree 2\n",
        "alphas=np.geomspace(0.1,2,20)\n",
        "scores=[]\n",
        "for alpha in alphas:\n",
        "  ridge=Ridge(alpha=alpha,max_iter=10000)\n",
        "\n",
        "  estimator=Pipeline([('polynomial_features',pf),('scaler',s),('ridge_regression',ridge)])  #pipeline of polynomial features,standardisation  ,ridge regression\n",
        "  predictions=cross_val_predict(estimator,x,y,cv=kf)\n",
        "  score=r2_score(y,predictions)\n",
        "  scores.append(score)\n",
        "  \n",
        "plt.plot(alphas,scores)  #plot for optimal value of alpha"
      ],
      "execution_count": null,
      "outputs": [
        {
          "output_type": "execute_result",
          "data": {
            "text/plain": [
              "[<matplotlib.lines.Line2D at 0x7f3d62c8d510>]"
            ]
          },
          "metadata": {},
          "execution_count": 55
        },
        {
          "output_type": "display_data",
          "data": {
            "image/png": "[encoded data removed]",
            "text/plain": [
              "<Figure size 432x288 with 1 Axes>"
            ]
          },
          "metadata": {
            "needs_background": "light"
          }
        }
      ]
    },
    {
      "cell_type": "markdown",
      "metadata": {
        "id": "8QAvbfH26052"
      },
      "source": [
        "**coclusion**-both lasso and ridge regression with proper hyperparameter tuning give better results than linar regression"
      ]
    },
    {
      "cell_type": "code",
      "metadata": {
        "colab": {
          "base_uri": "https://localhost:8080/"
        },
        "id": "LN9HWo8M3RUs",
        "outputId": "ce447217-0460-4a31-cc80-17210b7c29fb"
      },
      "source": [
        "best_estimator=Pipeline([('make_higher_degree',PolynomialFeatures(degree=2,include_bias=False)),('scaler',s),('lasso_regression',Lasso(alpha=0.01))])\n",
        "\n",
        "best_estimator.fit(x_train,y_train)\n",
        "predict=best_estimator.predict(x_test)\n",
        "r2_score(y_test,predict)"
      ],
      "execution_count": null,
      "outputs": [
        {
          "output_type": "stream",
          "name": "stderr",
          "text": [
            "/usr/local/lib/python3.7/dist-packages/sklearn/linear_model/_coordinate_descent.py:648: ConvergenceWarning: Objective did not converge. You might want to increase the number of iterations, check the scale of the features or consider increasing regularisation. Duality gap: 5.721e+02, tolerance: 3.030e+00\n",
            "  coef_, l1_reg, l2_reg, X, y, max_iter, tol, rng, random, positive\n"
          ]
        },
        {
          "output_type": "execute_result",
          "data": {
            "text/plain": [
              "0.8615001051948262"
            ]
          },
          "metadata": {},
          "execution_count": 53
        }
      ]
    },
    {
      "cell_type": "markdown",
      "metadata": {
        "id": "BE0ufV---2Ek"
      },
      "source": [
        "We got 90% accuracy by using pipline of polynomial feature , standard scale and lasso or ridge regression"
      ]
    },
    {
      "cell_type": "code",
      "metadata": {
        "id": "po2KHS7-CJ8f"
      },
      "source": [
        ""
      ],
      "execution_count": null,
      "outputs": []
    }
  ]
}